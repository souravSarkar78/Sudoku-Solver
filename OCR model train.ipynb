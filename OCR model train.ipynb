{
 "cells": [
  {
   "cell_type": "code",
   "execution_count": 1,
   "id": "94770587",
   "metadata": {},
   "outputs": [],
   "source": [
    "# Pan card fraud detection- DataFlair\n",
    "import os\n",
    "import cv2\n",
    "import time\n",
    "import random\n",
    "import numpy as np\n",
    "from tqdm import tqdm\n",
    "import Augmenter as ag\n",
    "import tensorflow as tf\n",
    "import matplotlib.pyplot as plt              \n",
    "from sklearn.model_selection import train_test_split\n",
    "from tensorflow.keras.models import Sequential\n",
    "from tensorflow.keras.layers import Conv2D, Dense, Flatten, Dropout"
   ]
  },
  {
   "cell_type": "code",
   "execution_count": 2,
   "id": "3cd2f613",
   "metadata": {},
   "outputs": [],
   "source": [
    "augmentation_limit = 15\n",
    "def augment_image(image):\n",
    "    \"\"\"Performs image augmentation operations\"\"\"\n",
    "    choice_X = random.randint(-augmentation_limit, augmentation_limit)\n",
    "    choice_Y = random.randint(-augmentation_limit, augmentation_limit)\n",
    "    \n",
    "    return ag.shift_image(image, choice_X, choice_Y)"
   ]
  },
  {
   "cell_type": "code",
   "execution_count": 3,
   "id": "f473bdeb",
   "metadata": {},
   "outputs": [
    {
     "name": "stdout",
     "output_type": "stream",
     "text": [
      "['7', '3', '6', '1', '0', '4', '8', '2', '5', '9']\n"
     ]
    }
   ],
   "source": [
    "img_size = 48\n",
    "number_of_augmentation = 23\n",
    "datadir = r'images'    # root data directiory\n",
    "CATEGORIES = os.listdir(datadir)\n",
    "print(CATEGORIES)"
   ]
  },
  {
   "cell_type": "code",
   "execution_count": 4,
   "id": "f5f7a5f6",
   "metadata": {},
   "outputs": [],
   "source": [
    "l = np.arange(0, 10)"
   ]
  },
  {
   "cell_type": "code",
   "execution_count": 5,
   "id": "4b567738",
   "metadata": {},
   "outputs": [
    {
     "data": {
      "text/plain": [
       "['0', '1', '2', '3', '4', '5', '6', '7', '8', '9']"
      ]
     },
     "execution_count": 5,
     "metadata": {},
     "output_type": "execute_result"
    }
   ],
   "source": [
    "l = [str(i) for i in l]\n",
    "l"
   ]
  },
  {
   "cell_type": "code",
   "execution_count": 6,
   "id": "d4b44ca3",
   "metadata": {},
   "outputs": [
    {
     "name": "stdout",
     "output_type": "stream",
     "text": [
      "Found 10 classes: ['0', '1', '2', '3', '4', '5', '6', '7', '8', '9']\n"
     ]
    },
    {
     "name": "stderr",
     "output_type": "stream",
     "text": [
      "100%|██████████| 1039/1039 [00:17<00:00, 58.60it/s]\n",
      " 23%|██▎       | 233/1035 [00:03<00:12, 65.69it/s]\n"
     ]
    },
    {
     "ename": "KeyboardInterrupt",
     "evalue": "",
     "output_type": "error",
     "traceback": [
      "\u001b[0;31m---------------------------------------------------------------------------\u001b[0m",
      "\u001b[0;31mKeyboardInterrupt\u001b[0m                         Traceback (most recent call last)",
      "\u001b[0;32m<ipython-input-6-52fcca11b68f>\u001b[0m in \u001b[0;36m<module>\u001b[0;34m\u001b[0m\n\u001b[1;32m     30\u001b[0m     \u001b[0;32mreturn\u001b[0m \u001b[0mx\u001b[0m\u001b[0;34m,\u001b[0m \u001b[0my\u001b[0m\u001b[0;34m,\u001b[0m \u001b[0mCATEGORIES\u001b[0m\u001b[0;34m\u001b[0m\u001b[0;34m\u001b[0m\u001b[0m\n\u001b[1;32m     31\u001b[0m \u001b[0;34m\u001b[0m\u001b[0m\n\u001b[0;32m---> 32\u001b[0;31m \u001b[0mx\u001b[0m\u001b[0;34m,\u001b[0m \u001b[0my\u001b[0m\u001b[0;34m,\u001b[0m \u001b[0mCATEGORIES\u001b[0m \u001b[0;34m=\u001b[0m \u001b[0mPreProcess\u001b[0m\u001b[0;34m(\u001b[0m\u001b[0mimg_size\u001b[0m\u001b[0;34m,\u001b[0m \u001b[0mdatadir\u001b[0m\u001b[0;34m)\u001b[0m\u001b[0;34m\u001b[0m\u001b[0;34m\u001b[0m\u001b[0m\n\u001b[0m",
      "\u001b[0;32m<ipython-input-6-52fcca11b68f>\u001b[0m in \u001b[0;36mPreProcess\u001b[0;34m(img_size, path)\u001b[0m\n\u001b[1;32m     19\u001b[0m             \u001b[0mresized_array\u001b[0m \u001b[0;34m=\u001b[0m \u001b[0mcv2\u001b[0m\u001b[0;34m.\u001b[0m\u001b[0mresize\u001b[0m\u001b[0;34m(\u001b[0m\u001b[0mimg_arr\u001b[0m\u001b[0;34m,\u001b[0m \u001b[0;34m(\u001b[0m\u001b[0mimg_size\u001b[0m\u001b[0;34m,\u001b[0m \u001b[0mimg_size\u001b[0m\u001b[0;34m)\u001b[0m\u001b[0;34m)\u001b[0m\u001b[0;34m\u001b[0m\u001b[0;34m\u001b[0m\u001b[0m\n\u001b[1;32m     20\u001b[0m             \u001b[0mcv2\u001b[0m\u001b[0;34m.\u001b[0m\u001b[0mimshow\u001b[0m\u001b[0;34m(\u001b[0m\u001b[0;34m\"images\"\u001b[0m\u001b[0;34m,\u001b[0m \u001b[0mresized_array\u001b[0m\u001b[0;34m)\u001b[0m\u001b[0;34m\u001b[0m\u001b[0;34m\u001b[0m\u001b[0m\n\u001b[0;32m---> 21\u001b[0;31m             \u001b[0mcv2\u001b[0m\u001b[0;34m.\u001b[0m\u001b[0mwaitKey\u001b[0m\u001b[0;34m(\u001b[0m\u001b[0;36m1\u001b[0m\u001b[0;34m)\u001b[0m\u001b[0;34m\u001b[0m\u001b[0;34m\u001b[0m\u001b[0m\n\u001b[0m\u001b[1;32m     22\u001b[0m \u001b[0;34m\u001b[0m\u001b[0m\n\u001b[1;32m     23\u001b[0m             \u001b[0;31m# Augmentation\u001b[0m\u001b[0;34m\u001b[0m\u001b[0;34m\u001b[0m\u001b[0;34m\u001b[0m\u001b[0m\n",
      "\u001b[0;31mKeyboardInterrupt\u001b[0m: "
     ]
    }
   ],
   "source": [
    "# Preprocessing Function\n",
    "def PreProcess(img_size, path):\n",
    "    \"\"\"This function reads images from the given folders subfolder \n",
    "        and returns a normalized array along with their respective classes\"\"\"\n",
    "    x, y = [], []\n",
    "    CATEGORIES = np.arange(0, 10)\n",
    "    CATEGORIES = [str(i) for i in CATEGORIES]\n",
    "    print(\"Found {} classes: {}\".format(len(CATEGORIES), CATEGORIES))\n",
    "    \n",
    "    for category in CATEGORIES:\n",
    "        path = os.path.join(datadir, str(category))\n",
    "        classIndex = CATEGORIES.index(category)\n",
    "        \n",
    "        # Reads each image from the directory\n",
    "        for imgs in tqdm(os.listdir(path)):\n",
    "            img_arr = cv2.imread(os.path.join(path, imgs), 0)\n",
    "#             _, img_arr = cv2.threshold(img_arr, 70, 255, cv2.THRESH_BINARY_INV)\n",
    "            # resize the image\n",
    "            resized_array = cv2.resize(img_arr, (img_size, img_size))\n",
    "            cv2.imshow(\"images\", resized_array)\n",
    "            cv2.waitKey(1)\n",
    "\n",
    "            # Augmentation\n",
    "            for i in range(number_of_augmentation):\n",
    "                augmented_array = augment_image(resized_array)\n",
    "                normalized_array = augmented_array/255.0 # Normalize the array\n",
    "                x.append(normalized_array)\n",
    "                y.append(classIndex)\n",
    "    cv2.destroyAllWindows()\n",
    "    return x, y, CATEGORIES\n",
    "\n",
    "x, y, CATEGORIES = PreProcess(img_size, datadir)\n"
   ]
  },
  {
   "cell_type": "code",
   "execution_count": 7,
   "id": "d3e06b7c",
   "metadata": {},
   "outputs": [],
   "source": [
    "# Split the dataset into training and testing\n",
    "X_train, x_test, Y_train, y_test = train_test_split(x, y, random_state=42)\n",
    "x = None\n",
    "y = None\n",
    "# Convert all the list to numpy array\n",
    "X_train = np.array(X_train).reshape(-1, img_size, img_size, 1)\n",
    "x_test = np.array(x_test).reshape(-1, img_size, img_size, 1)\n",
    "Y_train = np.array(Y_train)\n",
    "y_test = np.array(y_test)"
   ]
  },
  {
   "cell_type": "code",
   "execution_count": 8,
   "id": "7919d974",
   "metadata": {},
   "outputs": [],
   "source": [
    "X_train = X_train"
   ]
  },
  {
   "cell_type": "code",
   "execution_count": 9,
   "id": "9b834960",
   "metadata": {},
   "outputs": [
    {
     "data": {
      "text/plain": [
       "(178692, 48, 48, 1)"
      ]
     },
     "execution_count": 9,
     "metadata": {},
     "output_type": "execute_result"
    }
   ],
   "source": [
    "X_train.shape"
   ]
  },
  {
   "cell_type": "code",
   "execution_count": 10,
   "id": "817a5a58",
   "metadata": {},
   "outputs": [
    {
     "name": "stdout",
     "output_type": "stream",
     "text": [
      "Model: \"sequential\"\n",
      "_________________________________________________________________\n",
      "Layer (type)                 Output Shape              Param #   \n",
      "=================================================================\n",
      "conv2d (Conv2D)              (None, 46, 46, 32)        320       \n",
      "_________________________________________________________________\n",
      "conv2d_1 (Conv2D)            (None, 44, 44, 64)        18496     \n",
      "_________________________________________________________________\n",
      "conv2d_2 (Conv2D)            (None, 21, 21, 64)        36928     \n",
      "_________________________________________________________________\n",
      "conv2d_3 (Conv2D)            (None, 19, 19, 128)       73856     \n",
      "_________________________________________________________________\n",
      "dropout (Dropout)            (None, 19, 19, 128)       0         \n",
      "_________________________________________________________________\n",
      "conv2d_4 (Conv2D)            (None, 17, 17, 128)       147584    \n",
      "_________________________________________________________________\n",
      "conv2d_5 (Conv2D)            (None, 8, 8, 64)          73792     \n",
      "_________________________________________________________________\n",
      "conv2d_6 (Conv2D)            (None, 6, 6, 16)          9232      \n",
      "_________________________________________________________________\n",
      "dropout_1 (Dropout)          (None, 6, 6, 16)          0         \n",
      "_________________________________________________________________\n",
      "flatten (Flatten)            (None, 576)               0         \n",
      "_________________________________________________________________\n",
      "dense (Dense)                (None, 500)               288500    \n",
      "_________________________________________________________________\n",
      "dropout_2 (Dropout)          (None, 500)               0         \n",
      "_________________________________________________________________\n",
      "dense_1 (Dense)              (None, 50)                25050     \n",
      "_________________________________________________________________\n",
      "dropout_3 (Dropout)          (None, 50)                0         \n",
      "_________________________________________________________________\n",
      "dense_2 (Dense)              (None, 10)                510       \n",
      "=================================================================\n",
      "Total params: 674,268\n",
      "Trainable params: 674,268\n",
      "Non-trainable params: 0\n",
      "_________________________________________________________________\n"
     ]
    }
   ],
   "source": [
    "# Build the model\n",
    "model = Sequential()\n",
    "\n",
    "model.add(Conv2D(32, (3, 3), input_shape=(img_size, img_size, 1), activation=\"relu\"))\n",
    "model.add(Conv2D(64, (3, 3), activation=\"relu\"))\n",
    "model.add(Conv2D(64, (3, 3), strides=2, activation=\"relu\"))\n",
    "model.add(Conv2D(128, (3, 3), activation=\"relu\"))\n",
    "model.add(Dropout(0.1))\n",
    "model.add(Conv2D(128, (3, 3), activation=\"relu\"))\n",
    "model.add(Conv2D(64, (3, 3), strides=2, activation=\"relu\"))\n",
    "model.add(Conv2D(16, (3, 3), activation=\"relu\"))\n",
    "model.add(Dropout(0.5))\n",
    "model.add(Flatten())\n",
    "model.add(Dense(500, activation='relu'))\n",
    "model.add(Dropout(0.3))\n",
    "model.add(Dense(50, activation='relu'))\n",
    "model.add(Dropout(0.1))\n",
    "model.add(Dense(len(CATEGORIES), activation='softmax'))\n",
    "\n",
    "model.compile(optimizer='adam', loss='sparse_categorical_crossentropy', metrics=['accuracy'])\n",
    "model.summary()"
   ]
  },
  {
   "cell_type": "code",
   "execution_count": 11,
   "id": "02d39ad8",
   "metadata": {},
   "outputs": [],
   "source": [
    "def track_time(start, end):\n",
    "    total = end-start\n",
    "    mins, sec = 0, 0\n",
    "    if total >= 60:\n",
    "        mins = int(total/60)\n",
    "        sec = int(total-(mins*60))\n",
    "    else:\n",
    "        sec = int(total)\n",
    "    print (\"Training took {} mins and {} seconds!\".format(mins, sec))\n",
    "\n",
    "from tensorflow.keras.callbacks import EarlyStopping, ModelCheckpoint, ReduceLROnPlateau\n",
    "\n",
    "callbacks = [\n",
    "    EarlyStopping(patience=5, verbose=1),\n",
    "    ReduceLROnPlateau(patience=3, verbose=1),\n",
    "    ModelCheckpoint('model-OCR.h5', verbose=1, save_best_only=True)\n",
    "]\n"
   ]
  },
  {
   "cell_type": "code",
   "execution_count": 12,
   "id": "d2e9928f",
   "metadata": {},
   "outputs": [
    {
     "name": "stdout",
     "output_type": "stream",
     "text": [
      "Epoch 1/100\n",
      "158/158 [==============================] - 128s 534ms/step - loss: 1.7279 - accuracy: 0.3576 - val_loss: 0.6102 - val_accuracy: 0.7962\n",
      "\n",
      "Epoch 00001: val_loss improved from inf to 0.61021, saving model to model-OCR.h5\n",
      "Epoch 2/100\n",
      "158/158 [==============================] - 82s 517ms/step - loss: 0.4896 - accuracy: 0.8351 - val_loss: 0.1614 - val_accuracy: 0.9506\n",
      "\n",
      "Epoch 00002: val_loss improved from 0.61021 to 0.16140, saving model to model-OCR.h5\n",
      "Epoch 3/100\n",
      "158/158 [==============================] - 82s 519ms/step - loss: 0.2149 - accuracy: 0.9312 - val_loss: 0.0866 - val_accuracy: 0.9731\n",
      "\n",
      "Epoch 00003: val_loss improved from 0.16140 to 0.08660, saving model to model-OCR.h5\n",
      "Epoch 4/100\n",
      "158/158 [==============================] - 82s 522ms/step - loss: 0.1371 - accuracy: 0.9560 - val_loss: 0.0601 - val_accuracy: 0.9800\n",
      "\n",
      "Epoch 00004: val_loss improved from 0.08660 to 0.06014, saving model to model-OCR.h5\n",
      "Epoch 5/100\n",
      "158/158 [==============================] - 83s 523ms/step - loss: 0.1008 - accuracy: 0.9680 - val_loss: 0.0404 - val_accuracy: 0.9862\n",
      "\n",
      "Epoch 00005: val_loss improved from 0.06014 to 0.04041, saving model to model-OCR.h5\n",
      "Epoch 6/100\n",
      "158/158 [==============================] - 83s 526ms/step - loss: 0.0780 - accuracy: 0.9754 - val_loss: 0.0352 - val_accuracy: 0.9882\n",
      "\n",
      "Epoch 00006: val_loss improved from 0.04041 to 0.03517, saving model to model-OCR.h5\n",
      "Epoch 7/100\n",
      "158/158 [==============================] - 84s 534ms/step - loss: 0.0674 - accuracy: 0.9789 - val_loss: 0.0247 - val_accuracy: 0.9926\n",
      "\n",
      "Epoch 00007: val_loss improved from 0.03517 to 0.02473, saving model to model-OCR.h5\n",
      "Epoch 8/100\n",
      "158/158 [==============================] - 85s 536ms/step - loss: 0.0542 - accuracy: 0.9828 - val_loss: 0.0262 - val_accuracy: 0.9904\n",
      "\n",
      "Epoch 00008: val_loss did not improve from 0.02473\n",
      "Epoch 9/100\n",
      "158/158 [==============================] - 85s 538ms/step - loss: 0.0497 - accuracy: 0.9843 - val_loss: 0.0239 - val_accuracy: 0.9922\n",
      "\n",
      "Epoch 00009: val_loss improved from 0.02473 to 0.02393, saving model to model-OCR.h5\n",
      "Epoch 10/100\n",
      "158/158 [==============================] - 86s 544ms/step - loss: 0.0423 - accuracy: 0.9867 - val_loss: 0.0176 - val_accuracy: 0.9945\n",
      "\n",
      "Epoch 00010: val_loss improved from 0.02393 to 0.01763, saving model to model-OCR.h5\n",
      "Epoch 11/100\n",
      "158/158 [==============================] - 86s 542ms/step - loss: 0.0375 - accuracy: 0.9881 - val_loss: 0.0116 - val_accuracy: 0.9963\n",
      "\n",
      "Epoch 00011: val_loss improved from 0.01763 to 0.01155, saving model to model-OCR.h5\n",
      "Epoch 12/100\n",
      "158/158 [==============================] - 86s 547ms/step - loss: 0.0320 - accuracy: 0.9900 - val_loss: 0.0106 - val_accuracy: 0.9962\n",
      "\n",
      "Epoch 00012: val_loss improved from 0.01155 to 0.01057, saving model to model-OCR.h5\n",
      "Epoch 13/100\n",
      "158/158 [==============================] - 85s 536ms/step - loss: 0.0295 - accuracy: 0.9907 - val_loss: 0.0162 - val_accuracy: 0.9947\n",
      "\n",
      "Epoch 00013: val_loss did not improve from 0.01057\n",
      "Epoch 14/100\n",
      "158/158 [==============================] - 85s 536ms/step - loss: 0.0324 - accuracy: 0.9901 - val_loss: 0.0086 - val_accuracy: 0.9975\n",
      "\n",
      "Epoch 00014: val_loss improved from 0.01057 to 0.00858, saving model to model-OCR.h5\n",
      "Epoch 15/100\n",
      "158/158 [==============================] - 86s 545ms/step - loss: 0.0248 - accuracy: 0.9919 - val_loss: 0.0080 - val_accuracy: 0.9974\n",
      "\n",
      "Epoch 00015: val_loss improved from 0.00858 to 0.00800, saving model to model-OCR.h5\n",
      "Epoch 16/100\n",
      "158/158 [==============================] - 86s 547ms/step - loss: 0.0216 - accuracy: 0.9930 - val_loss: 0.0113 - val_accuracy: 0.9960\n",
      "\n",
      "Epoch 00016: val_loss did not improve from 0.00800\n",
      "Epoch 17/100\n",
      "158/158 [==============================] - 84s 535ms/step - loss: 0.0207 - accuracy: 0.9935 - val_loss: 0.0090 - val_accuracy: 0.9968\n",
      "\n",
      "Epoch 00017: val_loss did not improve from 0.00800\n",
      "Epoch 18/100\n",
      "158/158 [==============================] - 84s 532ms/step - loss: 0.0215 - accuracy: 0.9931 - val_loss: 0.0057 - val_accuracy: 0.9983\n",
      "\n",
      "Epoch 00018: val_loss improved from 0.00800 to 0.00573, saving model to model-OCR.h5\n",
      "Epoch 19/100\n",
      "158/158 [==============================] - 84s 533ms/step - loss: 0.0186 - accuracy: 0.9941 - val_loss: 0.0078 - val_accuracy: 0.9973\n",
      "\n",
      "Epoch 00019: val_loss did not improve from 0.00573\n",
      "Epoch 20/100\n",
      "158/158 [==============================] - 85s 535ms/step - loss: 0.0187 - accuracy: 0.9939 - val_loss: 0.0064 - val_accuracy: 0.9979\n",
      "\n",
      "Epoch 00020: val_loss did not improve from 0.00573\n",
      "Epoch 21/100\n",
      "158/158 [==============================] - 84s 532ms/step - loss: 0.0176 - accuracy: 0.9944 - val_loss: 0.0076 - val_accuracy: 0.9976\n",
      "\n",
      "Epoch 00021: ReduceLROnPlateau reducing learning rate to 0.00010000000474974513.\n",
      "\n",
      "Epoch 00021: val_loss did not improve from 0.00573\n",
      "Epoch 22/100\n",
      "158/158 [==============================] - 84s 531ms/step - loss: 0.0107 - accuracy: 0.9966 - val_loss: 0.0033 - val_accuracy: 0.9990\n",
      "\n",
      "Epoch 00022: val_loss improved from 0.00573 to 0.00332, saving model to model-OCR.h5\n",
      "Epoch 23/100\n",
      "158/158 [==============================] - 84s 532ms/step - loss: 0.0084 - accuracy: 0.9975 - val_loss: 0.0030 - val_accuracy: 0.9991\n",
      "\n",
      "Epoch 00023: val_loss improved from 0.00332 to 0.00303, saving model to model-OCR.h5\n",
      "Epoch 24/100\n",
      "158/158 [==============================] - 84s 531ms/step - loss: 0.0077 - accuracy: 0.9975 - val_loss: 0.0027 - val_accuracy: 0.9992\n",
      "\n",
      "Epoch 00024: val_loss improved from 0.00303 to 0.00271, saving model to model-OCR.h5\n",
      "Epoch 25/100\n",
      "158/158 [==============================] - 84s 533ms/step - loss: 0.0077 - accuracy: 0.9976 - val_loss: 0.0027 - val_accuracy: 0.9993\n",
      "\n",
      "Epoch 00025: val_loss did not improve from 0.00271\n",
      "Epoch 26/100\n",
      "158/158 [==============================] - 86s 543ms/step - loss: 0.0070 - accuracy: 0.9978 - val_loss: 0.0026 - val_accuracy: 0.9994\n",
      "\n",
      "Epoch 00026: val_loss improved from 0.00271 to 0.00258, saving model to model-OCR.h5\n",
      "Epoch 27/100\n",
      "158/158 [==============================] - 85s 538ms/step - loss: 0.0071 - accuracy: 0.9979 - val_loss: 0.0025 - val_accuracy: 0.9995\n",
      "\n",
      "Epoch 00027: val_loss improved from 0.00258 to 0.00249, saving model to model-OCR.h5\n",
      "Epoch 28/100\n",
      "158/158 [==============================] - 85s 540ms/step - loss: 0.0065 - accuracy: 0.9979 - val_loss: 0.0024 - val_accuracy: 0.9993\n",
      "\n",
      "Epoch 00028: val_loss improved from 0.00249 to 0.00240, saving model to model-OCR.h5\n",
      "Epoch 29/100\n",
      "158/158 [==============================] - 84s 535ms/step - loss: 0.0062 - accuracy: 0.9981 - val_loss: 0.0025 - val_accuracy: 0.9992\n",
      "\n",
      "Epoch 00029: val_loss did not improve from 0.00240\n",
      "Epoch 30/100\n",
      "158/158 [==============================] - 85s 535ms/step - loss: 0.0062 - accuracy: 0.9980 - val_loss: 0.0025 - val_accuracy: 0.9993\n",
      "\n",
      "Epoch 00030: val_loss did not improve from 0.00240\n",
      "Epoch 31/100\n",
      "158/158 [==============================] - 85s 535ms/step - loss: 0.0062 - accuracy: 0.9980 - val_loss: 0.0023 - val_accuracy: 0.9992\n",
      "\n",
      "Epoch 00031: ReduceLROnPlateau reducing learning rate to 1.0000000474974514e-05.\n",
      "\n",
      "Epoch 00031: val_loss improved from 0.00240 to 0.00233, saving model to model-OCR.h5\n",
      "Epoch 32/100\n",
      "158/158 [==============================] - 84s 532ms/step - loss: 0.0056 - accuracy: 0.9982 - val_loss: 0.0021 - val_accuracy: 0.9994\n",
      "\n",
      "Epoch 00032: val_loss improved from 0.00233 to 0.00213, saving model to model-OCR.h5\n",
      "Epoch 33/100\n",
      "158/158 [==============================] - 85s 536ms/step - loss: 0.0053 - accuracy: 0.9982 - val_loss: 0.0021 - val_accuracy: 0.9994\n",
      "\n",
      "Epoch 00033: val_loss improved from 0.00213 to 0.00212, saving model to model-OCR.h5\n",
      "Epoch 34/100\n",
      "158/158 [==============================] - 85s 537ms/step - loss: 0.0056 - accuracy: 0.9984 - val_loss: 0.0021 - val_accuracy: 0.9995\n",
      "\n",
      "Epoch 00034: val_loss improved from 0.00212 to 0.00211, saving model to model-OCR.h5\n",
      "Epoch 35/100\n",
      "158/158 [==============================] - 85s 536ms/step - loss: 0.0057 - accuracy: 0.9982 - val_loss: 0.0021 - val_accuracy: 0.9994\n",
      "\n",
      "Epoch 00035: ReduceLROnPlateau reducing learning rate to 1.0000000656873453e-06.\n",
      "\n",
      "Epoch 00035: val_loss improved from 0.00211 to 0.00206, saving model to model-OCR.h5\n",
      "Epoch 36/100\n",
      "158/158 [==============================] - 85s 540ms/step - loss: 0.0047 - accuracy: 0.9985 - val_loss: 0.0021 - val_accuracy: 0.9994\n"
     ]
    },
    {
     "name": "stdout",
     "output_type": "stream",
     "text": [
      "\n",
      "Epoch 00036: val_loss improved from 0.00206 to 0.00206, saving model to model-OCR.h5\n",
      "Epoch 37/100\n",
      "158/158 [==============================] - 85s 536ms/step - loss: 0.0052 - accuracy: 0.9984 - val_loss: 0.0021 - val_accuracy: 0.9995\n",
      "\n",
      "Epoch 00037: val_loss improved from 0.00206 to 0.00205, saving model to model-OCR.h5\n",
      "Epoch 38/100\n",
      "158/158 [==============================] - 85s 536ms/step - loss: 0.0057 - accuracy: 0.9982 - val_loss: 0.0021 - val_accuracy: 0.9995\n",
      "\n",
      "Epoch 00038: ReduceLROnPlateau reducing learning rate to 1.0000001111620805e-07.\n",
      "\n",
      "Epoch 00038: val_loss did not improve from 0.00205\n",
      "Epoch 39/100\n",
      "158/158 [==============================] - 84s 533ms/step - loss: 0.0055 - accuracy: 0.9982 - val_loss: 0.0021 - val_accuracy: 0.9995\n",
      "\n",
      "Epoch 00039: val_loss did not improve from 0.00205\n",
      "Epoch 40/100\n",
      "158/158 [==============================] - 84s 529ms/step - loss: 0.0053 - accuracy: 0.9983 - val_loss: 0.0021 - val_accuracy: 0.9995\n",
      "\n",
      "Epoch 00040: val_loss did not improve from 0.00205\n",
      "Epoch 41/100\n",
      "158/158 [==============================] - 84s 530ms/step - loss: 0.0055 - accuracy: 0.9982 - val_loss: 0.0021 - val_accuracy: 0.9995\n",
      "\n",
      "Epoch 00041: ReduceLROnPlateau reducing learning rate to 1.000000082740371e-08.\n",
      "\n",
      "Epoch 00041: val_loss did not improve from 0.00205\n",
      "Epoch 42/100\n",
      "158/158 [==============================] - 84s 530ms/step - loss: 0.0053 - accuracy: 0.9983 - val_loss: 0.0021 - val_accuracy: 0.9995\n",
      "\n",
      "Epoch 00042: val_loss did not improve from 0.00205\n",
      "Epoch 00042: early stopping\n",
      "Training took 60 mins and 12 seconds!\n"
     ]
    }
   ],
   "source": [
    "start = time.time()\n",
    "history = model.fit(X_train, Y_train, batch_size = 1024, epochs=100, validation_split=0.1, callbacks=callbacks, verbose=1)\n",
    "end = time.time()\n",
    "track_time(start, end)"
   ]
  },
  {
   "cell_type": "code",
   "execution_count": null,
   "id": "d6201391",
   "metadata": {},
   "outputs": [],
   "source": []
  },
  {
   "cell_type": "code",
   "execution_count": 13,
   "id": "23afcf32",
   "metadata": {},
   "outputs": [],
   "source": [
    "accuracy = history.history['accuracy']\n",
    "loss = history.history['loss']"
   ]
  },
  {
   "cell_type": "code",
   "execution_count": 14,
   "id": "4b36f89f",
   "metadata": {},
   "outputs": [
    {
     "data": {
      "text/plain": [
       "Text(0.5, 1.0, 'Loss')"
      ]
     },
     "execution_count": 14,
     "metadata": {},
     "output_type": "execute_result"
    },
    {
     "data": {
      "image/png": "[encoded data removed]",
      "text/plain": [
       "<Figure size 432x288 with 2 Axes>"
      ]
     },
     "metadata": {
      "needs_background": "light"
     },
     "output_type": "display_data"
    }
   ],
   "source": [
    "fig, (ax1, ax2) = plt.subplots(1, 2)\n",
    "ax1.plot(accuracy)\n",
    "ax1.set_title(\"Accuracy\")\n",
    "ax2.plot(loss)\n",
    "ax2.set_title('Loss')"
   ]
  },
  {
   "cell_type": "code",
   "execution_count": 15,
   "id": "ea82766f",
   "metadata": {},
   "outputs": [
    {
     "name": "stdout",
     "output_type": "stream",
     "text": [
      "1862/1862 [==============================] - 11s 6ms/step - loss: 0.0026 - accuracy: 0.9991\n"
     ]
    },
    {
     "data": {
      "text/plain": [
       "[0.0026011476293206215, 0.9991270303726196]"
      ]
     },
     "execution_count": 15,
     "metadata": {},
     "output_type": "execute_result"
    }
   ],
   "source": [
    "model.evaluate(x_test, y_test)"
   ]
  },
  {
   "cell_type": "code",
   "execution_count": 42,
   "id": "bbfc0508",
   "metadata": {},
   "outputs": [],
   "source": [
    "# Load images\n",
    "img_real = cv2.cvtColor(cv2.imread('cards/real.jpg'), cv2.COLOR_BGR2RGB)\n",
    "img_fake = cv2.cvtColor(cv2.imread('cards/fake.jpg'), cv2.COLOR_BGR2RGB)\n",
    "real = np.expand_dims(cv2.resize(img_real, (img_size, img_size)), axis=0)/255.0\n",
    "fake = np.expand_dims(cv2.resize(img_fake, (img_size, img_size)), axis=0)/255.0"
   ]
  },
  {
   "cell_type": "code",
   "execution_count": 46,
   "id": "7ad8d01c",
   "metadata": {},
   "outputs": [
    {
     "data": {
      "text/plain": [
       "Text(0.5, 1.0, 'Fake')"
      ]
     },
     "execution_count": 46,
     "metadata": {},
     "output_type": "execute_result"
    },
    {
     "data": {
      "image/png": "[encoded data removed]",
      "text/plain": [
       "<Figure size 432x288 with 2 Axes>"
      ]
     },
     "metadata": {
      "needs_background": "light"
     },
     "output_type": "display_data"
    }
   ],
   "source": [
    "fig, (ax1, ax2) = plt.subplots(1, 2)\n",
    "ax1.imshow(img_real)\n",
    "ax1.set_title(\"Real\")\n",
    "ax2.imshow(img_fake)\n",
    "ax2.set_title('Fake')"
   ]
  },
  {
   "cell_type": "code",
   "execution_count": 50,
   "id": "9b4f63ea",
   "metadata": {},
   "outputs": [
    {
     "data": {
      "text/plain": [
       "('real', 'fake')"
      ]
     },
     "execution_count": 50,
     "metadata": {},
     "output_type": "execute_result"
    }
   ],
   "source": [
    "# Predict from a image\n",
    "pred1 = model.predict(real)\n",
    "pred2 = model.predict(fake)\n",
    "CATEGORIES[np.argmax(pred1)], CATEGORIES[np.argmax(pred2)]"
   ]
  },
  {
   "cell_type": "code",
   "execution_count": 34,
   "id": "d20cb5f5",
   "metadata": {},
   "outputs": [],
   "source": [
    "# Export the model\n",
    "model.save(\"model2.h5\")"
   ]
  },
  {
   "cell_type": "code",
   "execution_count": null,
   "id": "61a6e4f0",
   "metadata": {},
   "outputs": [],
   "source": []
  }
 ],
 "metadata": {
  "kernelspec": {
   "display_name": "Python 3.7.10 64-bit ('dsenv': conda)",
   "language": "python",
   "name": "python3710jvsc74a57bd03de85ba066d17394542b6ba22a9c606e6ab49ee752c0de84f0bbe3e820d7ebf9"
  },
  "language_info": {
   "codemirror_mode": {
    "name": "ipython",
    "version": 3
   },
   "file_extension": ".py",
   "mimetype": "text/x-python",
   "name": "python",
   "nbconvert_exporter": "python",
   "pygments_lexer": "ipython3",
   "version": "3.7.10"
  }
 },
 "nbformat": 4,
 "nbformat_minor": 5
}
