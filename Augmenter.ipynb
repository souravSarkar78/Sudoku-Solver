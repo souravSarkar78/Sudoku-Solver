{
 "cells": [
  {
   "cell_type": "code",
   "execution_count": null,
   "id": "63216009",
   "metadata": {},
   "outputs": [],
   "source": [
    "def shift_image(image, choice_X, choice_Y):\n",
    "    \"\"\"Shifts image left-right or up-down direction \n",
    "        input Param: \n",
    "            1) image - image array\n",
    "            2) choice_X - Value of shifting in X axis (in pixel)\n",
    "            3) choice_Y - Value of shifting in Y axis (in pixel)\"\"\"\n",
    "    try:\n",
    "        height, width, c = image.shape\n",
    "    except:\n",
    "        height, width= image.shape\n",
    "    T = np.float32([[1, 0, choice_X], [0, 1, choice_Y]])\n",
    "    output = cv2.warpAffine(board, T, (width, height))\n",
    "    \n",
    "    return output"
   ]
  }
 ],
 "metadata": {
  "kernelspec": {
   "display_name": "Python 3.7.10 64-bit ('dsenv': conda)",
   "language": "python",
   "name": "python3710jvsc74a57bd03de85ba066d17394542b6ba22a9c606e6ab49ee752c0de84f0bbe3e820d7ebf9"
  },
  "language_info": {
   "codemirror_mode": {
    "name": "ipython",
    "version": 3
   },
   "file_extension": ".py",
   "mimetype": "text/x-python",
   "name": "python",
   "nbconvert_exporter": "python",
   "pygments_lexer": "ipython3",
   "version": "3.7.10"
  }
 },
 "nbformat": 4,
 "nbformat_minor": 5
}
